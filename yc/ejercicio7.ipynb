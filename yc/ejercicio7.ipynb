{
 "cells": [
  {
   "cell_type": "markdown",
   "metadata": {},
   "source": [
    "**Ejercicio 7**: En un año anterior, los pesos de los miembros de los **San Francisco 49ers** y los **Dallas Cowboys** se publicaron en el *The Mercury News de San José*. Los datos fácticos se recopilaron en la siguiente tabla.\n",
    "\n",
    "|N.º de camisa|\t≤ 210|\t211–250|\t251–290\t|> 290|\n",
    "|---|---|---|---|---|\n",
    "|1–33|\t21|\t5|\t0|\t0|\n",
    "|34–66|\t6|\t18|\t7| 4|\n",
    "|66–99|\t6|\t12|\t22|\t5|\n",
    "\n",
    "Para lo siguiente, suponga que selecciona al azar un jugador de los 49ers o de los Cowboys.\n",
    "1. Calcule la probabilidad de que el número de su camiseta sea del 1 al 33. (**Rta**: 26/106)\n",
    "2. Calcule la probabilidad de que pese como máximo 210 libras. (**Rta**: 33/106)\n",
    "3. Calcule la probabilidad de que el número de su camisa esté entre el 1 y el 33 **Y** que pese como máximo 210 libras. (**Rta**: 21/106)\n",
    "4. Calcule la probabilidad de que el número de su camisa sea del 1 al 33 **O** que pese como máximo 210 libras. (**Rta**: 38/106)\n",
    "5. Calcule la probabilidad de que el número de su camisa sea del 1 al 33, **DADO** que pesa como máximo 210 libras. (**Rta**: 21/33)"
   ]
  },
  {
   "cell_type": "code",
   "execution_count": 1,
   "metadata": {},
   "outputs": [
    {
     "name": "stdout",
     "output_type": "stream",
     "text": [
      "La probabilidad de que el número de camiseta sea del 1 al 33 es: 0.24528301886792453\n",
      "La probabilidad de que pese como máximo 210 libras es: 0.3113207547169811\n",
      "La probabilidad de que el número de camiseta esté entre el 1 y el 33 Y que pese como máximo 210 libras es: 0.19811320754716982\n",
      "La probabilidad de que el número de camiseta sea del 1 al 33 O que pese como máximo 210 libras es: 0.3584905660377358\n",
      "La probabilidad de que el número de camiseta sea del 1 al 33 DADO que pesa como máximo 210 libras es: 0.6363636363636364\n"
     ]
    }
   ],
   "source": [
    "# Número de jugadores en cada categoría\n",
    "jugadores_1_33 = 26\n",
    "jugadores_peso_210 = 33\n",
    "jugadores_ambas_condiciones = 21\n",
    "\n",
    "# Total de jugadores\n",
    "total_jugadores = 106\n",
    "\n",
    "# Probabilidad de que el número de camiseta esté entre 1 y 33\n",
    "probabilidad_1_33 = jugadores_1_33 / total_jugadores\n",
    "\n",
    "# Probabilidad de que pese como máximo 210 libras\n",
    "probabilidad_peso_210 = jugadores_peso_210 / total_jugadores\n",
    "\n",
    "# Probabilidad de que el número de camiseta esté entre 1 y 33 Y que pese como máximo 210 libras\n",
    "probabilidad_ambas_condiciones = jugadores_ambas_condiciones / total_jugadores\n",
    "\n",
    "# Probabilidad de que el número de camiseta sea del 1 al 33 O que pese como máximo 210 libras\n",
    "probabilidad_total = probabilidad_1_33 + probabilidad_peso_210 - probabilidad_ambas_condiciones\n",
    "\n",
    "# Probabilidad de que el número de camiseta sea del 1 al 33 dado que el jugador pesa como máximo 210 libras\n",
    "probabilidad_condicional = jugadores_ambas_condiciones / jugadores_peso_210\n",
    "\n",
    "# Imprimir resultados\n",
    "print(\"La probabilidad de que el número de camiseta sea del 1 al 33 es:\", probabilidad_1_33)\n",
    "print(\"La probabilidad de que pese como máximo 210 libras es:\", probabilidad_peso_210)\n",
    "print(\"La probabilidad de que el número de camiseta esté entre el 1 y el 33 Y que pese como máximo 210 libras es:\", probabilidad_ambas_condiciones)\n",
    "print(\"La probabilidad de que el número de camiseta sea del 1 al 33 O que pese como máximo 210 libras es:\", probabilidad_total)\n",
    "print(\"La probabilidad de que el número de camiseta sea del 1 al 33 DADO que pesa como máximo 210 libras es:\", probabilidad_condicional)"
   ]
  },
  {
   "cell_type": "markdown",
   "metadata": {},
   "source": []
  }
 ],
 "metadata": {
  "kernelspec": {
   "display_name": "base",
   "language": "python",
   "name": "python3"
  },
  "language_info": {
   "codemirror_mode": {
    "name": "ipython",
    "version": 3
   },
   "file_extension": ".py",
   "mimetype": "text/x-python",
   "name": "python",
   "nbconvert_exporter": "python",
   "pygments_lexer": "ipython3",
   "version": "3.8.8"
  },
  "orig_nbformat": 4
 },
 "nbformat": 4,
 "nbformat_minor": 2
}
