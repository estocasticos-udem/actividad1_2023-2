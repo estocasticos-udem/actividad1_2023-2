{
 "cells": [
  {
   "cell_type": "markdown",
   "metadata": {},
   "source": [
    "**Ejercicio 1 - VIH testing**: Las pruebas de inmunoensayo enzimático (EIA) se utilizan para detectar la presencia de anticuerpos contra el VIH, el virus que causa el SIDA, en muestras de sangre. Los anticuerpos indican la presencia del virus. La prueba es bastante precisa, pero no siempre es correcta. Estas son las probabilidades aproximadas de resultados positivos y negativos de EIA cuando la sangre analizada contiene y no contiene anticuerpos contra el VIH.\n",
    "\n",
    "||Resultado positivo (+)|Resultado negativo (-)|\n",
    "|---|---|---|\n",
    "|Anticuertos presentes| 0.9985| 0.0015|\n",
    "|Anticuerpos ausentes |0.006| 0.994|\n",
    "\n",
    "Suponga que el 1% de una gran población porta anticuerpos del VIH en su sangre.\n",
    "\n",
    "1. Determine cada uno de los eventos de manera clara.\n",
    "2. Dibuje un diagrama de árbol para seleccionar una persona de esta población (**resultados**: anticuerpos presentes o ausentes) y para analizar su sangre (**resultados**: EIA positivo o negativo).\n",
    "3. ¿Cuál es la probabilidad de que la prueba EIA sea positiva para una persona de esta poblacion elegida al azar? (**Rta**: 0.015925)\n",
    "4. ¿Cuál es la probabilidad de que una persona tenga la anticuerpo dado que la prueba EIA es positiva? (**Rta**: 0.6270) \n",
    "\n",
    "messi\n",
    "\n",
    "\n",
    "\n"
   ]
  },
  {
   "cell_type": "markdown",
   "metadata": {},
   "source": []
  },
  {
   "cell_type": "code",
   "execution_count": null,
   "metadata": {},
   "outputs": [],
   "source": [
    "# Probabilidad de que la prueba EIA sea positiva para una persona de la población elegida al azar\n",
    "P_A = 0.01  # Probabilidad de tener anticuerpos\n",
    "P_B = 0.99  # Probabilidad de no tener anticuerpos\n",
    "P_C_given_A = 0.9985  # Probabilidad de EIA positivo dado anticuerpos\n",
    "P_C_given_B = 0.006  # Probabilidad de EIA positivo dado no anticuerpos\n",
    "\n",
    "P_C = P_C_given_A * P_A + P_C_given_B * P_B  # Probabilidad total de EIA positivo\n",
    "print(f\"La probabilidad de que la prueba EIA sea positiva es: {P_C:.6f}\")\n",
    "\n",
    "# Probabilidad de que una persona tenga anticuerpos dado que la prueba EIA es positiva\n",
    "P_A_given_C = (P_C_given_A * P_A) / P_C\n",
    "print(f\"La probabilidad de tener anticuerpos dado que la prueba EIA es positiva es: {P_A_given_C:.4f}\")\n",
    "\n",
    "# Probabilidad de que una persona tenga anticuerpos dado que la prueba EIA es negativa\n",
    "P_D_given_A = 0.0015  # Probabilidad de EIA negativo dado anticuerpos\n",
    "P_D_given_B = 0.994   # Probabilidad de EIA negativo dado no anticuerpos\n",
    "\n",
    "P_D = P_D_given_A * P_A + P_D_given_B * P_B  # Probabilidad total de EIA negativo\n",
    "P_A_given_D = (P_D_given_A * P_A) / P_D  # Probabilidad de tener anticuerpos dado EIA negativo\n",
    "print(f\"La probabilidad de tener anticuerpos dado que la prueba EIA es negativa es: {P_A_given_D:.4f}\")"
   ]
  }
 ],
 "metadata": {
  "kernelspec": {
   "display_name": "Python 3",
   "language": "python",
   "name": "python3"
  },
  "language_info": {
   "codemirror_mode": {
    "name": "ipython",
    "version": 3
   },
   "file_extension": ".py",
   "mimetype": "text/x-python",
   "name": "python",
   "nbconvert_exporter": "python",
   "pygments_lexer": "ipython3",
   "version": "3.8.8"
  },
  "orig_nbformat": 4
 },
 "nbformat": 4,
 "nbformat_minor": 2
}
